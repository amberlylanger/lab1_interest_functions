{
  "cells": [
    {
      "cell_type": "markdown",
      "metadata": {
        "id": "view-in-github",
        "colab_type": "text"
      },
      "source": [
        "<a href=\"https://colab.research.google.com/github/amberlylanger/lab1_interest_functions/blob/master/lab_1_interest_functions.ipynb\" target=\"_parent\"><img src=\"https://colab.research.google.com/assets/colab-badge.svg\" alt=\"Open In Colab\"/></a>"
      ]
    },
    {
      "cell_type": "markdown",
      "metadata": {
        "id": "C9r7tqjJFzYU"
      },
      "source": [
        "## Lab 1 - Compound Interest Functions\n",
        "\n",
        "Below you will find a table of important formulae related to compound interest.  \n",
        "\n",
        "<img src=\"https://www.dummies.com/wp-content/uploads/251689.image0.jpg\" alt=\"image0.jpg\" width=\"400\" height=\"319\">\n",
        "\n",
        "In this lab, you will create functions for each of these using (and documenting) the following workflow.\n",
        "\n",
        "1. Work out the correct answer for a few examples. *Hint* Search for e.g. \"worked out compound interest examples\" on the web.\n",
        "2. Write a `lambda` function and test this function on your test cases.\n",
        "3. Convert the `lambda` function to a `def` statement with an informative doc string that follows the [Google formating rules](https://google.github.io/styleguide/pyguide.html#383-functions-and-methods).\n",
        "4. Write an automated test function (using your previous examples) that will test your `def` statement function each time the code is executed."
      ]
    },
    {
      "cell_type": "markdown",
      "metadata": {
        "id": "2VXGwzSgFzYX"
      },
      "source": [
        "#### Problem 1 -- Apply the process to create a simple interest functions."
      ]
    },
    {
      "cell_type": "markdown",
      "source": [
        "1. An account accrues simple interest on an initial balance of $350 dollars at a rate of 4.5% per year. After 10 years, how much interest has accrued to the account?"
      ],
      "metadata": {
        "id": "EYgmlJRAHYwC"
      }
    },
    {
      "cell_type": "code",
      "source": [
        "350*.045*10"
      ],
      "metadata": {
        "colab": {
          "base_uri": "https://localhost:8080/"
        },
        "id": "a0eG6QjiGXKa",
        "outputId": "e8d3f50c-e433-4ab1-9aab-da590463dae3"
      },
      "execution_count": 4,
      "outputs": [
        {
          "output_type": "execute_result",
          "data": {
            "text/plain": [
              "157.5"
            ]
          },
          "metadata": {},
          "execution_count": 4
        }
      ]
    },
    {
      "cell_type": "code",
      "execution_count": 5,
      "metadata": {
        "colab": {
          "base_uri": "https://localhost:8080/"
        },
        "id": "RX50jsrlFzYX",
        "outputId": "2955e2e9-ee50-4310-b41a-3674450e203f"
      },
      "outputs": [
        {
          "output_type": "execute_result",
          "data": {
            "text/plain": [
              "157.5"
            ]
          },
          "metadata": {},
          "execution_count": 5
        }
      ],
      "source": [
        "#2\n",
        "i = lambda p,r,t: p*r*t\n",
        "i(350,.045,10)"
      ]
    },
    {
      "cell_type": "code",
      "source": [
        "#3 \n",
        "def simple_interest(p,r,t):\n",
        "  \"\"\" Calculates your simple interest with principle, interest rate, and time in years\n",
        "\n",
        "  Args:\n",
        "    p: a number\n",
        "    r: a number\n",
        "    t: a number\n",
        "\n",
        "  Returns:\n",
        "    The product of p,r,t also known as simple interest.\n",
        "\"\"\"\n",
        "  output = p*r*t\n",
        "  return output\n",
        "simple_interest(350,.045,10)\n"
      ],
      "metadata": {
        "colab": {
          "base_uri": "https://localhost:8080/"
        },
        "id": "IyHWpfySILK1",
        "outputId": "386cc6ec-7b8a-412c-bc03-364b5c8a08ed"
      },
      "execution_count": 8,
      "outputs": [
        {
          "output_type": "execute_result",
          "data": {
            "text/plain": [
              "157.5"
            ]
          },
          "metadata": {},
          "execution_count": 8
        }
      ]
    },
    {
      "cell_type": "code",
      "source": [
        "#4\n",
        "simple_interest(200,.05,5)\n"
      ],
      "metadata": {
        "colab": {
          "base_uri": "https://localhost:8080/"
        },
        "id": "2M2mjZvTIkwI",
        "outputId": "20b38769-cd3d-4bbe-d906-9aca6f7ff020"
      },
      "execution_count": 60,
      "outputs": [
        {
          "output_type": "execute_result",
          "data": {
            "text/plain": [
              "50.0"
            ]
          },
          "metadata": {},
          "execution_count": 60
        }
      ]
    },
    {
      "cell_type": "code",
      "source": [
        "assert simple_interest(200,.05,5) == 500"
      ],
      "metadata": {
        "colab": {
          "base_uri": "https://localhost:8080/",
          "height": 169
        },
        "id": "LS1eXUC5IqiL",
        "outputId": "3df11faf-e66b-448a-da60-0ce10917b6dc"
      },
      "execution_count": 46,
      "outputs": [
        {
          "output_type": "error",
          "ename": "AssertionError",
          "evalue": "ignored",
          "traceback": [
            "\u001b[0;31m---------------------------------------------------------------------------\u001b[0m",
            "\u001b[0;31mAssertionError\u001b[0m                            Traceback (most recent call last)",
            "\u001b[0;32m<ipython-input-46-df4723573c07>\u001b[0m in \u001b[0;36m<module>\u001b[0;34m\u001b[0m\n\u001b[0;32m----> 1\u001b[0;31m \u001b[0;32massert\u001b[0m \u001b[0msimple_interest\u001b[0m\u001b[0;34m(\u001b[0m\u001b[0;36m200\u001b[0m\u001b[0;34m,\u001b[0m\u001b[0;36m.05\u001b[0m\u001b[0;34m,\u001b[0m\u001b[0;36m5\u001b[0m\u001b[0;34m)\u001b[0m \u001b[0;34m==\u001b[0m \u001b[0;36m500\u001b[0m\u001b[0;34m\u001b[0m\u001b[0;34m\u001b[0m\u001b[0m\n\u001b[0m",
            "\u001b[0;31mAssertionError\u001b[0m: "
          ]
        }
      ]
    },
    {
      "cell_type": "markdown",
      "metadata": {
        "id": "x1ps3CjFFzYZ"
      },
      "source": [
        "#### Problem 2 -- Apply the process to create a compound interest functions."
      ]
    },
    {
      "cell_type": "markdown",
      "source": [
        "1. If an amount of $5,000 is deposited into a savings account at an annual interest rate of 5%, compounded monthly, the value of the investment after 10 years"
      ],
      "metadata": {
        "id": "P59HOpePJMuP"
      }
    },
    {
      "cell_type": "code",
      "source": [
        "5000*(1+.05/12)**(12*10)"
      ],
      "metadata": {
        "colab": {
          "base_uri": "https://localhost:8080/"
        },
        "id": "p8khJBblI_FS",
        "outputId": "645bc51d-1c9e-4153-ef70-f1355b5e7fca"
      },
      "execution_count": 17,
      "outputs": [
        {
          "output_type": "execute_result",
          "data": {
            "text/plain": [
              "8235.0474884514"
            ]
          },
          "metadata": {},
          "execution_count": 17
        }
      ]
    },
    {
      "cell_type": "code",
      "execution_count": 20,
      "metadata": {
        "colab": {
          "base_uri": "https://localhost:8080/"
        },
        "id": "-jD1XouUFzYZ",
        "outputId": "4111c48d-a6fc-45e0-e987-95bb4b49d0ce"
      },
      "outputs": [
        {
          "output_type": "execute_result",
          "data": {
            "text/plain": [
              "8235.0474884514"
            ]
          },
          "metadata": {},
          "execution_count": 20
        }
      ],
      "source": [
        "#2\n",
        "ci = lambda p,r,n,t: p*(1+(r/n))**(n*t)\n",
        "ci(5000,.05,12,10)"
      ]
    },
    {
      "cell_type": "code",
      "source": [
        "#3\n",
        "def compound_interest(p,r,n,t):\n",
        "    \"\"\"Calculates your compounds interest with principle, interest rate, compoundings, and years\n",
        "\n",
        "    Args:\n",
        "     p: a number\n",
        "     r: a number\n",
        "     n: a number\n",
        "     t: a number\n",
        "\n",
        "    Returns:\n",
        "     Compound Interest\n",
        "    \"\"\"\n",
        "    output = (p*(1+(r/n))**(n*t))\n",
        "    return output\n",
        "compound_interest(5000,.05,12,10)"
      ],
      "metadata": {
        "colab": {
          "base_uri": "https://localhost:8080/"
        },
        "id": "Fkbid58XLDuz",
        "outputId": "04cc4e00-9541-4f8c-f0b8-1cb2089b46d3"
      },
      "execution_count": 51,
      "outputs": [
        {
          "output_type": "execute_result",
          "data": {
            "text/plain": [
              "8235.0474884514"
            ]
          },
          "metadata": {},
          "execution_count": 51
        }
      ]
    },
    {
      "cell_type": "code",
      "source": [
        "compound_interest(1000,.1,12,3)"
      ],
      "metadata": {
        "id": "i2_uEuJ4XDd1",
        "outputId": "53221987-6674-401b-c775-b780ed66f929",
        "colab": {
          "base_uri": "https://localhost:8080/"
        }
      },
      "execution_count": 53,
      "outputs": [
        {
          "output_type": "execute_result",
          "data": {
            "text/plain": [
              "1348.1818424188275"
            ]
          },
          "metadata": {},
          "execution_count": 53
        }
      ]
    },
    {
      "cell_type": "code",
      "source": [
        "#4\n",
        "assert compound_interest(1000,.1,12,3) == 1000"
      ],
      "metadata": {
        "colab": {
          "base_uri": "https://localhost:8080/",
          "height": 187
        },
        "id": "-B6_dz1eLeYQ",
        "outputId": "ce28fda8-b9cc-4fda-b644-99a81b7b4c8f"
      },
      "execution_count": 55,
      "outputs": [
        {
          "output_type": "error",
          "ename": "AssertionError",
          "evalue": "ignored",
          "traceback": [
            "\u001b[0;31m---------------------------------------------------------------------------\u001b[0m",
            "\u001b[0;31mAssertionError\u001b[0m                            Traceback (most recent call last)",
            "\u001b[0;32m<ipython-input-55-e3cd8662ccf1>\u001b[0m in \u001b[0;36m<module>\u001b[0;34m\u001b[0m\n\u001b[1;32m      1\u001b[0m \u001b[0;31m#4\u001b[0m\u001b[0;34m\u001b[0m\u001b[0;34m\u001b[0m\u001b[0;34m\u001b[0m\u001b[0m\n\u001b[0;32m----> 2\u001b[0;31m \u001b[0;32massert\u001b[0m \u001b[0mcompound_interest\u001b[0m\u001b[0;34m(\u001b[0m\u001b[0;36m1000\u001b[0m\u001b[0;34m,\u001b[0m\u001b[0;36m.1\u001b[0m\u001b[0;34m,\u001b[0m\u001b[0;36m12\u001b[0m\u001b[0;34m,\u001b[0m\u001b[0;36m3\u001b[0m\u001b[0;34m)\u001b[0m \u001b[0;34m==\u001b[0m \u001b[0;36m1000\u001b[0m\u001b[0;34m\u001b[0m\u001b[0;34m\u001b[0m\u001b[0m\n\u001b[0m",
            "\u001b[0;31mAssertionError\u001b[0m: "
          ]
        }
      ]
    },
    {
      "cell_type": "code",
      "source": [
        "1000*(1+.02/10)**(10*5)"
      ],
      "metadata": {
        "colab": {
          "base_uri": "https://localhost:8080/"
        },
        "id": "cIwOfcQ3Llrv",
        "outputId": "e5d40cfc-2e1f-49e0-be22-81066baa5d0b"
      },
      "execution_count": 25,
      "outputs": [
        {
          "output_type": "execute_result",
          "data": {
            "text/plain": [
              "1105.060553630249"
            ]
          },
          "metadata": {},
          "execution_count": 25
        }
      ]
    },
    {
      "cell_type": "markdown",
      "metadata": {
        "id": "47aZSk6-FzYa"
      },
      "source": [
        "#### Problem 3 -- Apply the process to create a amortized loan payment function."
      ]
    },
    {
      "cell_type": "markdown",
      "source": [
        "1. Let's look at a four-year, 40,000 personal loan at 3% interest. The monthly payment is going to be 664.03 ($30,000 ((.0025 (1.0025 ^ 48) / (1.0025 ^ 48) - 1)))."
      ],
      "metadata": {
        "id": "d5206n7OMVT4"
      }
    },
    {
      "cell_type": "code",
      "source": [
        "(40000*.03)/(1-((1+.03)**-48))"
      ],
      "metadata": {
        "colab": {
          "base_uri": "https://localhost:8080/"
        },
        "id": "U1RC0acJM71C",
        "outputId": "9dd78199-4ecb-4ea6-de71-37689f41e1b6"
      },
      "execution_count": 28,
      "outputs": [
        {
          "output_type": "execute_result",
          "data": {
            "text/plain": [
              "1583.1109522020445"
            ]
          },
          "metadata": {},
          "execution_count": 28
        }
      ]
    },
    {
      "cell_type": "code",
      "execution_count": 30,
      "metadata": {
        "colab": {
          "base_uri": "https://localhost:8080/"
        },
        "id": "MYrAkBlHFzYa",
        "outputId": "6c2658c0-d6ce-4fbc-b847-eb33564af9ad"
      },
      "outputs": [
        {
          "output_type": "execute_result",
          "data": {
            "text/plain": [
              "1583.1109522020445"
            ]
          },
          "metadata": {},
          "execution_count": 30
        }
      ],
      "source": [
        "#2 \n",
        "alp = lambda p, i, n: (p*i)/(1-(1+i)**-n)\n",
        "alp(40000,.03,48)"
      ]
    },
    {
      "cell_type": "code",
      "source": [
        "#3\n",
        "def amortized_loan_payment (p,i,n):\n",
        "    \"\"\"Calculates the amortized loan payment with amount borrowed, interest rate per period, and number of payments\n",
        "  \n",
        "    Args:\n",
        "        p: a number\n",
        "        i: a number\n",
        "        n: a number\n",
        "\n",
        "    Returns:\n",
        "      Amortized loan payment\n",
        "    \"\"\"\n",
        "    output = (p*i)/(1-(1+i)**-n)\n",
        "    return output\n",
        "amortized_loan_payment(40000,.03,48)"
      ],
      "metadata": {
        "colab": {
          "base_uri": "https://localhost:8080/"
        },
        "id": "HWsE4ttaOAba",
        "outputId": "79beae6a-8605-4749-a72d-6ecbbbb16784"
      },
      "execution_count": 56,
      "outputs": [
        {
          "output_type": "execute_result",
          "data": {
            "text/plain": [
              "1583.1109522020445"
            ]
          },
          "metadata": {},
          "execution_count": 56
        }
      ]
    },
    {
      "cell_type": "code",
      "source": [
        "#4\n",
        "amortized_loan_payment(10000, .05,12)"
      ],
      "metadata": {
        "colab": {
          "base_uri": "https://localhost:8080/"
        },
        "id": "MyxKgusBORlV",
        "outputId": "3612af67-324e-4b44-8457-0a4d9676494a"
      },
      "execution_count": 33,
      "outputs": [
        {
          "output_type": "execute_result",
          "data": {
            "text/plain": [
              "1128.2541002081534"
            ]
          },
          "metadata": {},
          "execution_count": 33
        }
      ]
    },
    {
      "cell_type": "code",
      "source": [
        "assert amortized_loan_payment(10000,.05,12) == 1000"
      ],
      "metadata": {
        "colab": {
          "base_uri": "https://localhost:8080/",
          "height": 169
        },
        "id": "fQk8-WBHOVaI",
        "outputId": "bf0b2d5d-8920-4b1f-9a45-c3df370a39cf"
      },
      "execution_count": 57,
      "outputs": [
        {
          "output_type": "error",
          "ename": "AssertionError",
          "evalue": "ignored",
          "traceback": [
            "\u001b[0;31m---------------------------------------------------------------------------\u001b[0m",
            "\u001b[0;31mAssertionError\u001b[0m                            Traceback (most recent call last)",
            "\u001b[0;32m<ipython-input-57-1a7c7230776d>\u001b[0m in \u001b[0;36m<module>\u001b[0;34m\u001b[0m\n\u001b[0;32m----> 1\u001b[0;31m \u001b[0;32massert\u001b[0m \u001b[0mamortized_loan_payment\u001b[0m\u001b[0;34m(\u001b[0m\u001b[0;36m10000\u001b[0m\u001b[0;34m,\u001b[0m\u001b[0;36m.05\u001b[0m\u001b[0;34m,\u001b[0m\u001b[0;36m12\u001b[0m\u001b[0;34m)\u001b[0m \u001b[0;34m==\u001b[0m \u001b[0;36m1000\u001b[0m\u001b[0;34m\u001b[0m\u001b[0;34m\u001b[0m\u001b[0m\n\u001b[0m",
            "\u001b[0;31mAssertionError\u001b[0m: "
          ]
        }
      ]
    },
    {
      "cell_type": "markdown",
      "metadata": {
        "id": "2i9jdwR6FzYb"
      },
      "source": [
        "#### Problem 4 -- Apply the process to create a remaining balance function"
      ]
    },
    {
      "cell_type": "markdown",
      "source": [
        "1. if a 30 year mortage at 6% interest rate has payments of $1000 a month, how much will the loan balance be 10 years from the end of the loan?"
      ],
      "metadata": {
        "id": "v8KbLbDTPD66"
      }
    },
    {
      "cell_type": "code",
      "source": [
        "1000*((1-(1+.06)**-(360-240))/.06)"
      ],
      "metadata": {
        "colab": {
          "base_uri": "https://localhost:8080/"
        },
        "id": "EKWK5ZnLPQ4W",
        "outputId": "91f84e3c-0467-4f03-d209-9501f42412dd"
      },
      "execution_count": 36,
      "outputs": [
        {
          "output_type": "execute_result",
          "data": {
            "text/plain": [
              "16651.350682177937"
            ]
          },
          "metadata": {},
          "execution_count": 36
        }
      ]
    },
    {
      "cell_type": "code",
      "execution_count": 39,
      "metadata": {
        "colab": {
          "base_uri": "https://localhost:8080/"
        },
        "id": "9WjBhd3lFzYb",
        "outputId": "c63cf3cd-aa37-462b-ba76-f3222c54ab83"
      },
      "outputs": [
        {
          "output_type": "execute_result",
          "data": {
            "text/plain": [
              "16651.350682177937"
            ]
          },
          "metadata": {},
          "execution_count": 39
        }
      ],
      "source": [
        "#2 \n",
        "rb = lambda r,i,n,x: r*((1-(1+i)**-(n-x))/i)\n",
        "rb(1000,.06,360,240)"
      ]
    },
    {
      "cell_type": "code",
      "source": [
        "#3\n",
        "def remaining_balance(r,i,n,x):\n",
        "    \"\"\"Calculates the remaining balance with regular payment, interest rate per period, number of payments, and number of payments already made\n",
        "  \n",
        "    Args:\n",
        "        r: a number\n",
        "        i: a number\n",
        "        n: a number\n",
        "        x: a number\n",
        "\n",
        "    Returns:\n",
        "        Remaining balance\n",
        "    \"\"\"\n",
        "    output = r*((1-(1+i)**-(n-x))/i)\n",
        "    return output\n",
        "remaining_balance(1000,.06,360,240)"
      ],
      "metadata": {
        "colab": {
          "base_uri": "https://localhost:8080/"
        },
        "id": "lBoKhx4hP3FU",
        "outputId": "e269f5d5-8b4a-4c89-9615-448d43a3e7a9"
      },
      "execution_count": 58,
      "outputs": [
        {
          "output_type": "execute_result",
          "data": {
            "text/plain": [
              "16651.350682177937"
            ]
          },
          "metadata": {},
          "execution_count": 58
        }
      ]
    },
    {
      "cell_type": "code",
      "source": [
        "remaining_balance(500,.05,10,5)"
      ],
      "metadata": {
        "colab": {
          "base_uri": "https://localhost:8080/"
        },
        "id": "vNrgadUpQIhZ",
        "outputId": "6c240a8c-60b9-47fb-b131-d458b1965a00"
      },
      "execution_count": 43,
      "outputs": [
        {
          "output_type": "execute_result",
          "data": {
            "text/plain": [
              "2164.7383353154114"
            ]
          },
          "metadata": {},
          "execution_count": 43
        }
      ]
    },
    {
      "cell_type": "code",
      "source": [
        "assert remaining_balance(500,.05,10,5) == 5000"
      ],
      "metadata": {
        "colab": {
          "base_uri": "https://localhost:8080/",
          "height": 169
        },
        "id": "MGIWEI9XQPRb",
        "outputId": "279ddc01-4d94-498b-c9db-561db663f642"
      },
      "execution_count": 59,
      "outputs": [
        {
          "output_type": "error",
          "ename": "AssertionError",
          "evalue": "ignored",
          "traceback": [
            "\u001b[0;31m---------------------------------------------------------------------------\u001b[0m",
            "\u001b[0;31mAssertionError\u001b[0m                            Traceback (most recent call last)",
            "\u001b[0;32m<ipython-input-59-b720adebb74e>\u001b[0m in \u001b[0;36m<module>\u001b[0;34m\u001b[0m\n\u001b[0;32m----> 1\u001b[0;31m \u001b[0;32massert\u001b[0m \u001b[0mremaining_balance\u001b[0m\u001b[0;34m(\u001b[0m\u001b[0;36m500\u001b[0m\u001b[0;34m,\u001b[0m\u001b[0;36m.05\u001b[0m\u001b[0;34m,\u001b[0m\u001b[0;36m10\u001b[0m\u001b[0;34m,\u001b[0m\u001b[0;36m5\u001b[0m\u001b[0;34m)\u001b[0m \u001b[0;34m==\u001b[0m \u001b[0;36m5000\u001b[0m\u001b[0;34m\u001b[0m\u001b[0;34m\u001b[0m\u001b[0m\n\u001b[0m",
            "\u001b[0;31mAssertionError\u001b[0m: "
          ]
        }
      ]
    },
    {
      "cell_type": "code",
      "source": [],
      "metadata": {
        "id": "R0lb7i5RQW1U"
      },
      "execution_count": null,
      "outputs": []
    }
  ],
  "metadata": {
    "kernelspec": {
      "display_name": "Python 3",
      "language": "python",
      "name": "python3"
    },
    "language_info": {
      "codemirror_mode": {
        "name": "ipython",
        "version": 3
      },
      "file_extension": ".py",
      "mimetype": "text/x-python",
      "name": "python",
      "nbconvert_exporter": "python",
      "pygments_lexer": "ipython3",
      "version": "3.7.2"
    },
    "colab": {
      "provenance": [],
      "include_colab_link": true
    }
  },
  "nbformat": 4,
  "nbformat_minor": 0
}